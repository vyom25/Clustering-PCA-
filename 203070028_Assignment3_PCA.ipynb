{
  "nbformat": 4,
  "nbformat_minor": 0,
  "metadata": {
    "colab": {
      "name": "203070028_Assignment3_PCA.ipynb",
      "provenance": [],
      "collapsed_sections": []
    },
    "kernelspec": {
      "name": "python3",
      "display_name": "Python 3"
    },
    "language_info": {
      "name": "python"
    }
  },
  "cells": [
    {
      "cell_type": "markdown",
      "metadata": {
        "id": "WfGW8kYg4Ofz"
      },
      "source": [
        "#EE769 Assignment 3(Principle Component Analysis)\n",
        "\n",
        "##Vyomkesh Chaudhary\n",
        "##203070028"
      ]
    },
    {
      "cell_type": "code",
      "metadata": {
        "id": "g_zJWt9z3Koy"
      },
      "source": [
        "import numpy as np                                      ##importing libraries\n",
        "import pandas as pd\n",
        "import seaborn as sns\n",
        "import matplotlib.pyplot as plt"
      ],
      "execution_count": 1,
      "outputs": []
    },
    {
      "cell_type": "markdown",
      "metadata": {
        "id": "BZjaBARB4fB4"
      },
      "source": [
        "#Reading Datasets"
      ]
    },
    {
      "cell_type": "code",
      "metadata": {
        "colab": {
          "resources": {
            "http://localhost:8080/nbextensions/google.colab/files.js": {
              "data": "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",
              "ok": true,
              "headers": [
                [
                  "content-type",
                  "application/javascript"
                ]
              ],
              "status": 200,
              "status_text": ""
            }
          },
          "base_uri": "https://localhost:8080/",
          "height": 90
        },
        "id": "MerVdKv34dpn",
        "outputId": "4852abd0-f608-4c72-8687-ead724ba3e11"
      },
      "source": [
        "from google.colab import files\n",
        "\n",
        "data_upload = files.upload()\n",
        "\n",
        "for file_name in data_upload.keys():\n",
        "  print(f\"{file_name} has been uploaded, with length {len(data_upload[file_name])}\")"
      ],
      "execution_count": 2,
      "outputs": [
        {
          "output_type": "display_data",
          "data": {
            "text/html": [
              "\n",
              "     <input type=\"file\" id=\"files-1ef3ad19-2cbf-43a7-b146-bb24421e72a2\" name=\"files[]\" multiple disabled\n",
              "        style=\"border:none\" />\n",
              "     <output id=\"result-1ef3ad19-2cbf-43a7-b146-bb24421e72a2\">\n",
              "      Upload widget is only available when the cell has been executed in the\n",
              "      current browser session. Please rerun this cell to enable.\n",
              "      </output>\n",
              "      <script src=\"/nbextensions/google.colab/files.js\"></script> "
            ],
            "text/plain": [
              "<IPython.core.display.HTML object>"
            ]
          },
          "metadata": {
            "tags": []
          }
        },
        {
          "output_type": "stream",
          "text": [
            "Saving DataPCA.csv to DataPCA.csv\n",
            "DataPCA.csv has been uploaded, with length 16504\n"
          ],
          "name": "stdout"
        }
      ]
    },
    {
      "cell_type": "code",
      "metadata": {
        "id": "21XbE5-D4mp_"
      },
      "source": [
        "df = pd.read_csv('/content/DataPCA.csv')                       ## Reading csv files into data frames"
      ],
      "execution_count": 4,
      "outputs": []
    },
    {
      "cell_type": "code",
      "metadata": {
        "colab": {
          "base_uri": "https://localhost:8080/",
          "height": 402
        },
        "id": "Kd0A5Bb74wi_",
        "outputId": "63d012ea-4bd6-4a2d-fa53-a853bad6b368"
      },
      "source": [
        "df"
      ],
      "execution_count": 5,
      "outputs": [
        {
          "output_type": "execute_result",
          "data": {
            "text/html": [
              "<div>\n",
              "<style scoped>\n",
              "    .dataframe tbody tr th:only-of-type {\n",
              "        vertical-align: middle;\n",
              "    }\n",
              "\n",
              "    .dataframe tbody tr th {\n",
              "        vertical-align: top;\n",
              "    }\n",
              "\n",
              "    .dataframe thead th {\n",
              "        text-align: right;\n",
              "    }\n",
              "</style>\n",
              "<table border=\"1\" class=\"dataframe\">\n",
              "  <thead>\n",
              "    <tr style=\"text-align: right;\">\n",
              "      <th></th>\n",
              "      <th>x1</th>\n",
              "      <th>x2</th>\n",
              "      <th>x3</th>\n",
              "      <th>x4</th>\n",
              "      <th>x5</th>\n",
              "      <th>x6</th>\n",
              "      <th>x7</th>\n",
              "    </tr>\n",
              "  </thead>\n",
              "  <tbody>\n",
              "    <tr>\n",
              "      <th>0</th>\n",
              "      <td>0.840261</td>\n",
              "      <td>-1.088160</td>\n",
              "      <td>4.861744</td>\n",
              "      <td>4.273055</td>\n",
              "      <td>4.312457</td>\n",
              "      <td>-0.137834</td>\n",
              "      <td>0.076453</td>\n",
              "    </tr>\n",
              "    <tr>\n",
              "      <th>1</th>\n",
              "      <td>1.320591</td>\n",
              "      <td>-1.174113</td>\n",
              "      <td>5.247360</td>\n",
              "      <td>3.295027</td>\n",
              "      <td>4.283410</td>\n",
              "      <td>-0.363759</td>\n",
              "      <td>-0.170605</td>\n",
              "    </tr>\n",
              "    <tr>\n",
              "      <th>2</th>\n",
              "      <td>1.537909</td>\n",
              "      <td>-1.175882</td>\n",
              "      <td>5.556251</td>\n",
              "      <td>3.394183</td>\n",
              "      <td>3.971574</td>\n",
              "      <td>-0.888398</td>\n",
              "      <td>0.080617</td>\n",
              "    </tr>\n",
              "    <tr>\n",
              "      <th>3</th>\n",
              "      <td>0.363552</td>\n",
              "      <td>-1.130608</td>\n",
              "      <td>4.329890</td>\n",
              "      <td>5.547488</td>\n",
              "      <td>4.539732</td>\n",
              "      <td>0.342330</td>\n",
              "      <td>0.251953</td>\n",
              "    </tr>\n",
              "    <tr>\n",
              "      <th>4</th>\n",
              "      <td>1.567938</td>\n",
              "      <td>-1.114719</td>\n",
              "      <td>5.542104</td>\n",
              "      <td>2.493071</td>\n",
              "      <td>4.156157</td>\n",
              "      <td>-0.609694</td>\n",
              "      <td>-0.291367</td>\n",
              "    </tr>\n",
              "    <tr>\n",
              "      <th>...</th>\n",
              "      <td>...</td>\n",
              "      <td>...</td>\n",
              "      <td>...</td>\n",
              "      <td>...</td>\n",
              "      <td>...</td>\n",
              "      <td>...</td>\n",
              "      <td>...</td>\n",
              "    </tr>\n",
              "    <tr>\n",
              "      <th>185</th>\n",
              "      <td>0.894296</td>\n",
              "      <td>-1.270097</td>\n",
              "      <td>4.618647</td>\n",
              "      <td>4.005702</td>\n",
              "      <td>4.634847</td>\n",
              "      <td>0.156118</td>\n",
              "      <td>-0.215169</td>\n",
              "    </tr>\n",
              "    <tr>\n",
              "      <th>186</th>\n",
              "      <td>0.926559</td>\n",
              "      <td>-1.203508</td>\n",
              "      <td>4.766199</td>\n",
              "      <td>3.907673</td>\n",
              "      <td>4.538084</td>\n",
              "      <td>0.073321</td>\n",
              "      <td>-0.197924</td>\n",
              "    </tr>\n",
              "    <tr>\n",
              "      <th>187</th>\n",
              "      <td>1.678706</td>\n",
              "      <td>-1.227245</td>\n",
              "      <td>5.613809</td>\n",
              "      <td>2.864530</td>\n",
              "      <td>4.046335</td>\n",
              "      <td>-0.906304</td>\n",
              "      <td>-0.099063</td>\n",
              "    </tr>\n",
              "    <tr>\n",
              "      <th>188</th>\n",
              "      <td>1.693254</td>\n",
              "      <td>-1.323340</td>\n",
              "      <td>5.470576</td>\n",
              "      <td>3.023584</td>\n",
              "      <td>4.208331</td>\n",
              "      <td>-0.693895</td>\n",
              "      <td>-0.189082</td>\n",
              "    </tr>\n",
              "    <tr>\n",
              "      <th>189</th>\n",
              "      <td>1.806170</td>\n",
              "      <td>-1.347104</td>\n",
              "      <td>5.541666</td>\n",
              "      <td>2.818543</td>\n",
              "      <td>4.240505</td>\n",
              "      <td>-0.690840</td>\n",
              "      <td>-0.222595</td>\n",
              "    </tr>\n",
              "  </tbody>\n",
              "</table>\n",
              "<p>190 rows × 7 columns</p>\n",
              "</div>"
            ],
            "text/plain": [
              "           x1        x2        x3        x4        x5        x6        x7\n",
              "0    0.840261 -1.088160  4.861744  4.273055  4.312457 -0.137834  0.076453\n",
              "1    1.320591 -1.174113  5.247360  3.295027  4.283410 -0.363759 -0.170605\n",
              "2    1.537909 -1.175882  5.556251  3.394183  3.971574 -0.888398  0.080617\n",
              "3    0.363552 -1.130608  4.329890  5.547488  4.539732  0.342330  0.251953\n",
              "4    1.567938 -1.114719  5.542104  2.493071  4.156157 -0.609694 -0.291367\n",
              "..        ...       ...       ...       ...       ...       ...       ...\n",
              "185  0.894296 -1.270097  4.618647  4.005702  4.634847  0.156118 -0.215169\n",
              "186  0.926559 -1.203508  4.766199  3.907673  4.538084  0.073321 -0.197924\n",
              "187  1.678706 -1.227245  5.613809  2.864530  4.046335 -0.906304 -0.099063\n",
              "188  1.693254 -1.323340  5.470576  3.023584  4.208331 -0.693895 -0.189082\n",
              "189  1.806170 -1.347104  5.541666  2.818543  4.240505 -0.690840 -0.222595\n",
              "\n",
              "[190 rows x 7 columns]"
            ]
          },
          "metadata": {
            "tags": []
          },
          "execution_count": 5
        }
      ]
    },
    {
      "cell_type": "markdown",
      "metadata": {
        "id": "sEDlV08F41go"
      },
      "source": [
        "#Observations:\n",
        "1.There are 7 features.\n",
        "\n",
        "2.There are 190 samples. "
      ]
    },
    {
      "cell_type": "code",
      "metadata": {
        "colab": {
          "base_uri": "https://localhost:8080/"
        },
        "id": "ql7elwPR4y0M",
        "outputId": "61a37375-9398-4f95-d3f6-97d0ad910044"
      },
      "source": [
        "df.info()"
      ],
      "execution_count": 6,
      "outputs": [
        {
          "output_type": "stream",
          "text": [
            "<class 'pandas.core.frame.DataFrame'>\n",
            "RangeIndex: 190 entries, 0 to 189\n",
            "Data columns (total 7 columns):\n",
            " #   Column  Non-Null Count  Dtype  \n",
            "---  ------  --------------  -----  \n",
            " 0   x1      190 non-null    float64\n",
            " 1   x2      190 non-null    float64\n",
            " 2   x3      190 non-null    float64\n",
            " 3   x4      190 non-null    float64\n",
            " 4   x5      190 non-null    float64\n",
            " 5   x6      190 non-null    float64\n",
            " 6   x7      190 non-null    float64\n",
            "dtypes: float64(7)\n",
            "memory usage: 10.5 KB\n"
          ],
          "name": "stdout"
        }
      ]
    },
    {
      "cell_type": "markdown",
      "metadata": {
        "id": "ICTOwGYe5VJ4"
      },
      "source": [
        "#Observations:\n",
        "\n",
        " All features are numerical.\n"
      ]
    },
    {
      "cell_type": "code",
      "metadata": {
        "colab": {
          "base_uri": "https://localhost:8080/"
        },
        "id": "lCFc45R15V1w",
        "outputId": "51ea3021-3fb8-4821-d90b-4a3117febd2a"
      },
      "source": [
        "for col in df: # for each column\n",
        "  unique_entries = pd.unique(df[col]) # unique elements in a column\n",
        "  print(f\"The column '{col}'  has {len(unique_entries)} unique entries, and {df[col].isnull().sum()} NaN values\")"
      ],
      "execution_count": 7,
      "outputs": [
        {
          "output_type": "stream",
          "text": [
            "The column 'x1'  has 190 unique entries, and 0 NaN values\n",
            "The column 'x2'  has 190 unique entries, and 0 NaN values\n",
            "The column 'x3'  has 190 unique entries, and 0 NaN values\n",
            "The column 'x4'  has 190 unique entries, and 0 NaN values\n",
            "The column 'x5'  has 190 unique entries, and 0 NaN values\n",
            "The column 'x6'  has 190 unique entries, and 0 NaN values\n",
            "The column 'x7'  has 190 unique entries, and 0 NaN values\n"
          ],
          "name": "stdout"
        }
      ]
    },
    {
      "cell_type": "markdown",
      "metadata": {
        "id": "ntz3vS4r5ZCP"
      },
      "source": [
        "#Observations:\n",
        " \n",
        "There are no Null entries."
      ]
    },
    {
      "cell_type": "markdown",
      "metadata": {
        "id": "yeVu24lH5dzP"
      },
      "source": [
        "# Part A :Visualize and pre-processing"
      ]
    },
    {
      "cell_type": "code",
      "metadata": {
        "colab": {
          "base_uri": "https://localhost:8080/",
          "height": 284
        },
        "id": "qOP5XCoy5o7v",
        "outputId": "09f3d657-9dc5-40de-b92c-e63d05c0185e"
      },
      "source": [
        "df.describe()"
      ],
      "execution_count": 9,
      "outputs": [
        {
          "output_type": "execute_result",
          "data": {
            "text/html": [
              "<div>\n",
              "<style scoped>\n",
              "    .dataframe tbody tr th:only-of-type {\n",
              "        vertical-align: middle;\n",
              "    }\n",
              "\n",
              "    .dataframe tbody tr th {\n",
              "        vertical-align: top;\n",
              "    }\n",
              "\n",
              "    .dataframe thead th {\n",
              "        text-align: right;\n",
              "    }\n",
              "</style>\n",
              "<table border=\"1\" class=\"dataframe\">\n",
              "  <thead>\n",
              "    <tr style=\"text-align: right;\">\n",
              "      <th></th>\n",
              "      <th>x1</th>\n",
              "      <th>x2</th>\n",
              "      <th>x3</th>\n",
              "      <th>x4</th>\n",
              "      <th>x5</th>\n",
              "      <th>x6</th>\n",
              "      <th>x7</th>\n",
              "    </tr>\n",
              "  </thead>\n",
              "  <tbody>\n",
              "    <tr>\n",
              "      <th>count</th>\n",
              "      <td>190.000000</td>\n",
              "      <td>190.000000</td>\n",
              "      <td>190.000000</td>\n",
              "      <td>190.000000</td>\n",
              "      <td>190.000000</td>\n",
              "      <td>190.000000</td>\n",
              "      <td>190.000000</td>\n",
              "    </tr>\n",
              "    <tr>\n",
              "      <th>mean</th>\n",
              "      <td>1.286644</td>\n",
              "      <td>-1.135656</td>\n",
              "      <td>5.254907</td>\n",
              "      <td>3.342504</td>\n",
              "      <td>4.233765</td>\n",
              "      <td>-0.412937</td>\n",
              "      <td>-0.119058</td>\n",
              "    </tr>\n",
              "    <tr>\n",
              "      <th>std</th>\n",
              "      <td>0.508765</td>\n",
              "      <td>0.233921</td>\n",
              "      <td>0.549171</td>\n",
              "      <td>0.995603</td>\n",
              "      <td>0.328327</td>\n",
              "      <td>0.482069</td>\n",
              "      <td>0.239692</td>\n",
              "    </tr>\n",
              "    <tr>\n",
              "      <th>min</th>\n",
              "      <td>-0.074116</td>\n",
              "      <td>-1.734167</td>\n",
              "      <td>3.967657</td>\n",
              "      <td>0.649854</td>\n",
              "      <td>3.306106</td>\n",
              "      <td>-1.936695</td>\n",
              "      <td>-0.786517</td>\n",
              "    </tr>\n",
              "    <tr>\n",
              "      <th>25%</th>\n",
              "      <td>0.928244</td>\n",
              "      <td>-1.298233</td>\n",
              "      <td>4.883782</td>\n",
              "      <td>2.645102</td>\n",
              "      <td>4.020569</td>\n",
              "      <td>-0.741547</td>\n",
              "      <td>-0.278181</td>\n",
              "    </tr>\n",
              "    <tr>\n",
              "      <th>50%</th>\n",
              "      <td>1.271034</td>\n",
              "      <td>-1.145689</td>\n",
              "      <td>5.249568</td>\n",
              "      <td>3.400840</td>\n",
              "      <td>4.242064</td>\n",
              "      <td>-0.377963</td>\n",
              "      <td>-0.122850</td>\n",
              "    </tr>\n",
              "    <tr>\n",
              "      <th>75%</th>\n",
              "      <td>1.637682</td>\n",
              "      <td>-0.997318</td>\n",
              "      <td>5.625487</td>\n",
              "      <td>3.996560</td>\n",
              "      <td>4.463035</td>\n",
              "      <td>-0.096413</td>\n",
              "      <td>0.036964</td>\n",
              "    </tr>\n",
              "    <tr>\n",
              "      <th>max</th>\n",
              "      <td>2.504835</td>\n",
              "      <td>-0.440730</td>\n",
              "      <td>6.857529</td>\n",
              "      <td>5.817673</td>\n",
              "      <td>5.056247</td>\n",
              "      <td>0.823165</td>\n",
              "      <td>0.526882</td>\n",
              "    </tr>\n",
              "  </tbody>\n",
              "</table>\n",
              "</div>"
            ],
            "text/plain": [
              "               x1          x2          x3  ...          x5          x6          x7\n",
              "count  190.000000  190.000000  190.000000  ...  190.000000  190.000000  190.000000\n",
              "mean     1.286644   -1.135656    5.254907  ...    4.233765   -0.412937   -0.119058\n",
              "std      0.508765    0.233921    0.549171  ...    0.328327    0.482069    0.239692\n",
              "min     -0.074116   -1.734167    3.967657  ...    3.306106   -1.936695   -0.786517\n",
              "25%      0.928244   -1.298233    4.883782  ...    4.020569   -0.741547   -0.278181\n",
              "50%      1.271034   -1.145689    5.249568  ...    4.242064   -0.377963   -0.122850\n",
              "75%      1.637682   -0.997318    5.625487  ...    4.463035   -0.096413    0.036964\n",
              "max      2.504835   -0.440730    6.857529  ...    5.056247    0.823165    0.526882\n",
              "\n",
              "[8 rows x 7 columns]"
            ]
          },
          "metadata": {
            "tags": []
          },
          "execution_count": 9
        }
      ]
    },
    {
      "cell_type": "code",
      "metadata": {
        "colab": {
          "base_uri": "https://localhost:8080/",
          "height": 1000
        },
        "id": "03o-_4mJ5a6f",
        "outputId": "0934cdf3-b24c-4d7d-aafa-5d117cdaa24a"
      },
      "source": [
        "for col in df.columns.values: #for all columns\n",
        "  #if the values are integer or discrete\n",
        "  if(df[col].dtypes == 'int64') | (df[col].dtypes == 'float64'):\n",
        "    plt.hist(df[col],10 if len(pd.unique(df[col]))>20 else len(pd.unique(df[col])))\n",
        "    plt.xlabel(col)\n",
        "    plt.show()"
      ],
      "execution_count": 8,
      "outputs": [
        {
          "output_type": "display_data",
          "data": {
            "image/png": "[encoded data removed]",
            "text/plain": [
              "<Figure size 432x288 with 1 Axes>"
            ]
          },
          "metadata": {
            "tags": [],
            "needs_background": "light"
          }
        },
        {
          "output_type": "display_data",
          "data": {
            "image/png": "[encoded data removed]",
            "text/plain": [
              "<Figure size 432x288 with 1 Axes>"
            ]
          },
          "metadata": {
            "tags": [],
            "needs_background": "light"
          }
        },
        {
          "output_type": "display_data",
          "data": {
            "image/png": "[encoded data removed]",
            "text/plain": [
              "<Figure size 432x288 with 1 Axes>"
            ]
          },
          "metadata": {
            "tags": [],
            "needs_background": "light"
          }
        },
        {
          "output_type": "display_data",
          "data": {
            "image/png": "[encoded data removed]",
            "text/plain": [
              "<Figure size 432x288 with 1 Axes>"
            ]
          },
          "metadata": {
            "tags": [],
            "needs_background": "light"
          }
        },
        {
          "output_type": "display_data",
          "data": {
            "image/png": "[encoded data removed]",
            "text/plain": [
              "<Figure size 432x288 with 1 Axes>"
            ]
          },
          "metadata": {
            "tags": [],
            "needs_background": "light"
          }
        },
        {
          "output_type": "display_data",
          "data": {
            "image/png": "[encoded data removed]",
            "text/plain": [
              "<Figure size 432x288 with 1 Axes>"
            ]
          },
          "metadata": {
            "tags": [],
            "needs_background": "light"
          }
        },
        {
          "output_type": "display_data",
          "data": {
            "image/png": "[encoded data removed]",
            "text/plain": [
              "<Figure size 432x288 with 1 Axes>"
            ]
          },
          "metadata": {
            "tags": [],
            "needs_background": "light"
          }
        }
      ]
    },
    {
      "cell_type": "markdown",
      "metadata": {
        "id": "edPmYzzR5yaJ"
      },
      "source": [
        "#Observations:\n",
        "\n",
        "Data is well spreaded"
      ]
    },
    {
      "cell_type": "code",
      "metadata": {
        "colab": {
          "base_uri": "https://localhost:8080/",
          "height": 407
        },
        "id": "MKJlmLBq5y2v",
        "outputId": "5d1ec5b2-033c-441c-bfca-98cf8c7de4d8"
      },
      "source": [
        "correlation = df.corr(method='spearman')\n",
        "\n",
        "f, ax = plt.subplots(figsize=(8,6))\n",
        "plt.title('Correlation of numerical attributes', size=12)\n",
        "sns.heatmap(correlation,annot=True)"
      ],
      "execution_count": 10,
      "outputs": [
        {
          "output_type": "execute_result",
          "data": {
            "text/plain": [
              "<matplotlib.axes._subplots.AxesSubplot at 0x7f9b147b8a50>"
            ]
          },
          "metadata": {
            "tags": []
          },
          "execution_count": 10
        },
        {
          "output_type": "display_data",
          "data": {
            "image/png": "[encoded data removed]",
            "text/plain": [
              "<Figure size 576x432 with 2 Axes>"
            ]
          },
          "metadata": {
            "tags": [],
            "needs_background": "light"
          }
        }
      ]
    },
    {
      "cell_type": "markdown",
      "metadata": {
        "id": "PS6qJ3AX5-Jh"
      },
      "source": [
        "#Observations:\n",
        "\n",
        "1. x1 and x3 are highly correlated.\n",
        "2. x5 and x6 are highly correlated.\n",
        "3. x4 and x6 are highly correlated"
      ]
    },
    {
      "cell_type": "markdown",
      "metadata": {
        "id": "POUTctiN61_P"
      },
      "source": [
        "#Power Transformation"
      ]
    },
    {
      "cell_type": "code",
      "metadata": {
        "id": "hlUq9gHy6mn_"
      },
      "source": [
        "from sklearn.preprocessing import PowerTransformer\n",
        "power = PowerTransformer(method='yeo-johnson', standardize=True)\n",
        "df_transformed = power.fit_transform(df)\n"
      ],
      "execution_count": 11,
      "outputs": []
    },
    {
      "cell_type": "code",
      "metadata": {
        "id": "uHnIUMmc66RP"
      },
      "source": [
        "df_transformed1 = pd.DataFrame(df_transformed)"
      ],
      "execution_count": 12,
      "outputs": []
    },
    {
      "cell_type": "markdown",
      "metadata": {
        "id": "H2BZh0ji7XYb"
      },
      "source": [
        "#Part B : Train PCA\n",
        "\n",
        "\n"
      ]
    },
    {
      "cell_type": "code",
      "metadata": {
        "id": "DikOx0Bz6_rl"
      },
      "source": [
        "from sklearn.decomposition import PCA\n",
        "pca = PCA()\n",
        "y = pca.fit_transform(df_transformed1)"
      ],
      "execution_count": 39,
      "outputs": []
    },
    {
      "cell_type": "markdown",
      "metadata": {
        "id": "elgYPv7W9tPD"
      },
      "source": [
        "#Part C: Plot the variance explained versus PCA dimensions"
      ]
    },
    {
      "cell_type": "code",
      "metadata": {
        "colab": {
          "base_uri": "https://localhost:8080/"
        },
        "id": "ToAmHJGB9CP_",
        "outputId": "17faee33-8108-4c73-a5f3-d348210bddcc"
      },
      "source": [
        "pca.get_covariance()"
      ],
      "execution_count": 40,
      "outputs": [
        {
          "output_type": "execute_result",
          "data": {
            "text/plain": [
              "array([[ 1.00529101, -0.20977607,  0.84815779, -0.92993796, -0.43932392,\n",
              "        -0.80025008, -0.60311214],\n",
              "       [-0.20977607,  1.00529101,  0.33972153, -0.02996555, -0.70705701,\n",
              "        -0.21313479,  0.54586307],\n",
              "       [ 0.84815779,  0.33972153,  1.00529101, -0.88729138, -0.83956179,\n",
              "        -0.92452056, -0.21969821],\n",
              "       [-0.92993796, -0.02996555, -0.88729138,  1.00529101,  0.52411095,\n",
              "         0.77836722,  0.63091498],\n",
              "       [-0.43932392, -0.70705701, -0.83956179,  0.52411095,  1.00529101,\n",
              "         0.83914771, -0.32819946],\n",
              "       [-0.80025008, -0.21313479, -0.92452056,  0.77836722,  0.83914771,\n",
              "         1.00529101,  0.05806019],\n",
              "       [-0.60311214,  0.54586307, -0.21969821,  0.63091498, -0.32819946,\n",
              "         0.05806019,  1.00529101]])"
            ]
          },
          "metadata": {
            "tags": []
          },
          "execution_count": 40
        }
      ]
    },
    {
      "cell_type": "code",
      "metadata": {
        "colab": {
          "base_uri": "https://localhost:8080/"
        },
        "id": "MMBesTsT97GV",
        "outputId": "91b8077d-9070-4f64-91c3-d2e5bb497442"
      },
      "source": [
        "explained_variance=pca.explained_variance_ratio_\n",
        "explained_variance"
      ],
      "execution_count": 41,
      "outputs": [
        {
          "output_type": "execute_result",
          "data": {
            "text/plain": [
              "array([6.09299130e-01, 3.18521678e-01, 6.54528745e-02, 6.19606432e-03,\n",
              "       3.23877094e-04, 1.49261742e-04, 5.71147386e-05])"
            ]
          },
          "metadata": {
            "tags": []
          },
          "execution_count": 41
        }
      ]
    },
    {
      "cell_type": "code",
      "metadata": {
        "colab": {
          "base_uri": "https://localhost:8080/",
          "height": 297
        },
        "id": "wm48DdwM-A3S",
        "outputId": "a2004799-a261-4c8c-f78f-b9ca053e5e53"
      },
      "source": [
        "with plt.style.context('dark_background'):\n",
        "    plt.figure(figsize=(6, 4))\n",
        "\n",
        "    plt.bar(range(7), explained_variance, alpha=0.5, align='center',\n",
        "            label='individual explained variance')\n",
        "    plt.ylabel('Explained variance ratio')\n",
        "    plt.xlabel('Principal components')\n",
        "    plt.legend(loc='best')\n",
        "    plt.tight_layout()"
      ],
      "execution_count": 42,
      "outputs": [
        {
          "output_type": "display_data",
          "data": {
            "image/png": "[encoded data removed]",
            "text/plain": [
              "<Figure size 432x288 with 1 Axes>"
            ]
          },
          "metadata": {
            "tags": []
          }
        }
      ]
    },
    {
      "cell_type": "markdown",
      "metadata": {
        "id": "-3fhjK1N-QCP"
      },
      "source": [
        "#Observations:\n",
        "\n",
        "Thus we can see from the above plot that first two components constitute almost 90% of the variance.Third and fourth components has 10% of the data sprad. Therefore , rest of the components can be dropped."
      ]
    },
    {
      "cell_type": "markdown",
      "metadata": {
        "id": "oPQwYAeQFJy-"
      },
      "source": [
        "#Part D : Reconstruct the data with various numbers of PCA dimensions, and compute the MSE."
      ]
    },
    {
      "cell_type": "markdown",
      "metadata": {
        "id": "b_nUZ18PFfu3"
      },
      "source": [
        "# Taking 3 Components"
      ]
    },
    {
      "cell_type": "code",
      "metadata": {
        "id": "1yr3evVx_LpF"
      },
      "source": [
        "pca=PCA(n_components=3)                                       #Considering Only first three components\n",
        "X_new=pca.fit_transform(df_transformed1)"
      ],
      "execution_count": 64,
      "outputs": []
    },
    {
      "cell_type": "code",
      "metadata": {
        "id": "kcCY4g22D3ww"
      },
      "source": [
        "df_new = pca.inverse_transform(X_new)"
      ],
      "execution_count": 65,
      "outputs": []
    },
    {
      "cell_type": "code",
      "metadata": {
        "colab": {
          "base_uri": "https://localhost:8080/"
        },
        "id": "XCCybf1bCK0C",
        "outputId": "7d0dbf5b-6990-42b8-8b4b-c1150710fe20"
      },
      "source": [
        "from sklearn.metrics import r2_score\n",
        "from sklearn.metrics import mean_squared_error\n",
        "from math import sqrt\n",
        "import numpy as np\n",
        "\n",
        "r2 = r2_score(y,df_new )\n",
        "rmse = sqrt(mean_squared_error(y, df_new))\n",
        "rmse"
      ],
      "execution_count": 66,
      "outputs": [
        {
          "output_type": "execute_result",
          "data": {
            "text/plain": [
              "1.0439713814961162"
            ]
          },
          "metadata": {
            "tags": []
          },
          "execution_count": 66
        }
      ]
    },
    {
      "cell_type": "markdown",
      "metadata": {
        "id": "SG8eG-oJFlNP"
      },
      "source": [
        "# Taking 1 Components"
      ]
    },
    {
      "cell_type": "code",
      "metadata": {
        "id": "ocFQ8kXmFmwf"
      },
      "source": [
        "pca=PCA(n_components=1)                                       #Considering Only first three components\n",
        "X_new1 = pca.fit_transform(df_transformed1)"
      ],
      "execution_count": 67,
      "outputs": []
    },
    {
      "cell_type": "code",
      "metadata": {
        "id": "Zwa0e8rWFrQH"
      },
      "source": [
        "df_new1 = pca.inverse_transform(X_new1)"
      ],
      "execution_count": 69,
      "outputs": []
    },
    {
      "cell_type": "code",
      "metadata": {
        "colab": {
          "base_uri": "https://localhost:8080/"
        },
        "id": "tWJuvrJgFzY_",
        "outputId": "9946a021-b169-4aef-8e17-ae73e662305e"
      },
      "source": [
        "from sklearn.metrics import r2_score\n",
        "from sklearn.metrics import mean_squared_error\n",
        "from math import sqrt\n",
        "import numpy as np\n",
        "\n",
        "r2 = r2_score(y,df_new1 )\n",
        "rmse = sqrt(mean_squared_error(y, df_new1))\n",
        "rmse"
      ],
      "execution_count": 70,
      "outputs": [
        {
          "output_type": "execute_result",
          "data": {
            "text/plain": [
              "1.0404820467099694"
            ]
          },
          "metadata": {
            "tags": []
          },
          "execution_count": 70
        }
      ]
    },
    {
      "cell_type": "markdown",
      "metadata": {
        "id": "8ZGaNN5kGJOY"
      },
      "source": [
        "# Taking 5 Components"
      ]
    },
    {
      "cell_type": "code",
      "metadata": {
        "id": "kR1sd8zRGIoW"
      },
      "source": [
        "pca=PCA(n_components=5)                                       #Considering Only first three components\n",
        "X_new5 = pca.fit_transform(df_transformed1)"
      ],
      "execution_count": 71,
      "outputs": []
    },
    {
      "cell_type": "code",
      "metadata": {
        "id": "ujLijXZLGPDu"
      },
      "source": [
        "df_new5 = pca.inverse_transform(X_new5)"
      ],
      "execution_count": 72,
      "outputs": []
    },
    {
      "cell_type": "code",
      "metadata": {
        "colab": {
          "base_uri": "https://localhost:8080/"
        },
        "id": "uX8KhBVwGVB2",
        "outputId": "1cdccb1d-b17a-4728-8741-e190c3d14359"
      },
      "source": [
        "from sklearn.metrics import r2_score\n",
        "from sklearn.metrics import mean_squared_error\n",
        "from math import sqrt\n",
        "import numpy as np\n",
        "\n",
        "r2 = r2_score(y,df_new5 )\n",
        "rmse = sqrt(mean_squared_error(y, df_new5))\n",
        "rmse"
      ],
      "execution_count": 79,
      "outputs": [
        {
          "output_type": "execute_result",
          "data": {
            "text/plain": [
              "1.0449200527718017"
            ]
          },
          "metadata": {
            "tags": []
          },
          "execution_count": 79
        }
      ]
    },
    {
      "cell_type": "markdown",
      "metadata": {
        "id": "1kg_qKePII35"
      },
      "source": [
        "#Observations:\n",
        "\n",
        "Error is quite less because 1st and 2nd component contains 90 percent variance."
      ]
    },
    {
      "cell_type": "markdown",
      "metadata": {
        "id": "P8fsONRvIZ9B"
      },
      "source": [
        "#Credits:\n",
        "\n",
        "1.EE769 1 2 2 ML for Smart Monkeys, Youtube, Prof Amit Sethi, EE IITB\n",
        "\n",
        "2.https://scikit-learn.org/stable/modules/generated/sklearn.decomposition.PCA.html\n",
        "\n",
        "3.https://jakevdp.github.io/PythonDataScienceHandbook/05.09-principal-component-analysis.html"
      ]
    }
  ]
}