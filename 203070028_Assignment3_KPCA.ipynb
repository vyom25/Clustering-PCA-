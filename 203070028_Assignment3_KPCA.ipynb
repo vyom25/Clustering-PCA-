{
  "nbformat": 4,
  "nbformat_minor": 0,
  "metadata": {
    "colab": {
      "name": "203070028_Assignment3_KPCA.ipynb",
      "provenance": [],
      "collapsed_sections": []
    },
    "kernelspec": {
      "name": "python3",
      "display_name": "Python 3"
    },
    "language_info": {
      "name": "python"
    }
  },
  "cells": [
    {
      "cell_type": "markdown",
      "metadata": {
        "id": "JSWHA-4cJPg3"
      },
      "source": [
        "#EE769 Assignment 3(KPCA)\n",
        "\n",
        "##Vyomkesh Chaudhary\n",
        "##203070028"
      ]
    },
    {
      "cell_type": "code",
      "metadata": {
        "id": "WHEubpSkI64N"
      },
      "source": [
        "import numpy as np                                      ##importing libraries\n",
        "import pandas as pd\n",
        "import seaborn as sns\n",
        "import matplotlib.pyplot as plt"
      ],
      "execution_count": 1,
      "outputs": []
    },
    {
      "cell_type": "markdown",
      "metadata": {
        "id": "FtZruViSJY6O"
      },
      "source": [
        "#Reading Dataset"
      ]
    },
    {
      "cell_type": "code",
      "metadata": {
        "colab": {
          "resources": {
            "http://localhost:8080/nbextensions/google.colab/files.js": {
              "data": "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",
              "ok": true,
              "headers": [
                [
                  "content-type",
                  "application/javascript"
                ]
              ],
              "status": 200,
              "status_text": ""
            }
          },
          "base_uri": "https://localhost:8080/",
          "height": 90
        },
        "id": "7gIMqOXnJXku",
        "outputId": "f243d22a-d61b-45fb-a940-517f539bcbe2"
      },
      "source": [
        "from google.colab import files\n",
        "\n",
        "data_upload = files.upload()\n",
        "\n",
        "for file_name in data_upload.keys():\n",
        "  print(f\"{file_name} has been uploaded, with length {len(data_upload[file_name])}\")"
      ],
      "execution_count": 2,
      "outputs": [
        {
          "output_type": "display_data",
          "data": {
            "text/html": [
              "\n",
              "     <input type=\"file\" id=\"files-0bc3176a-3241-476a-bc05-88798f198f1d\" name=\"files[]\" multiple disabled\n",
              "        style=\"border:none\" />\n",
              "     <output id=\"result-0bc3176a-3241-476a-bc05-88798f198f1d\">\n",
              "      Upload widget is only available when the cell has been executed in the\n",
              "      current browser session. Please rerun this cell to enable.\n",
              "      </output>\n",
              "      <script src=\"/nbextensions/google.colab/files.js\"></script> "
            ],
            "text/plain": [
              "<IPython.core.display.HTML object>"
            ]
          },
          "metadata": {
            "tags": []
          }
        },
        {
          "output_type": "stream",
          "text": [
            "Saving DataKPCA.csv to DataKPCA.csv\n",
            "DataKPCA.csv has been uploaded, with length 16564\n"
          ],
          "name": "stdout"
        }
      ]
    },
    {
      "cell_type": "code",
      "metadata": {
        "id": "QjSyhWU_J2uO"
      },
      "source": [
        "df = pd.read_csv('/content/DataKPCA.csv')                       ## Reading csv files into data frames"
      ],
      "execution_count": 4,
      "outputs": []
    },
    {
      "cell_type": "code",
      "metadata": {
        "colab": {
          "base_uri": "https://localhost:8080/",
          "height": 402
        },
        "id": "cfpNixeSJ_a-",
        "outputId": "c9d8a90e-4cd6-46f0-b4e4-0f52d8540182"
      },
      "source": [
        "df"
      ],
      "execution_count": 5,
      "outputs": [
        {
          "output_type": "execute_result",
          "data": {
            "text/html": [
              "<div>\n",
              "<style scoped>\n",
              "    .dataframe tbody tr th:only-of-type {\n",
              "        vertical-align: middle;\n",
              "    }\n",
              "\n",
              "    .dataframe tbody tr th {\n",
              "        vertical-align: top;\n",
              "    }\n",
              "\n",
              "    .dataframe thead th {\n",
              "        text-align: right;\n",
              "    }\n",
              "</style>\n",
              "<table border=\"1\" class=\"dataframe\">\n",
              "  <thead>\n",
              "    <tr style=\"text-align: right;\">\n",
              "      <th></th>\n",
              "      <th>x1</th>\n",
              "      <th>x2</th>\n",
              "      <th>x3</th>\n",
              "      <th>x4</th>\n",
              "      <th>x5</th>\n",
              "      <th>x6</th>\n",
              "      <th>x7</th>\n",
              "    </tr>\n",
              "  </thead>\n",
              "  <tbody>\n",
              "    <tr>\n",
              "      <th>0</th>\n",
              "      <td>2.596641</td>\n",
              "      <td>15.263178</td>\n",
              "      <td>-46.289607</td>\n",
              "      <td>-10.993265</td>\n",
              "      <td>-2.266729</td>\n",
              "      <td>1.935832</td>\n",
              "      <td>2.039688</td>\n",
              "    </tr>\n",
              "    <tr>\n",
              "      <th>1</th>\n",
              "      <td>3.096286</td>\n",
              "      <td>14.784802</td>\n",
              "      <td>-48.175614</td>\n",
              "      <td>-8.799362</td>\n",
              "      <td>-2.220871</td>\n",
              "      <td>1.851201</td>\n",
              "      <td>1.921974</td>\n",
              "    </tr>\n",
              "    <tr>\n",
              "      <th>2</th>\n",
              "      <td>3.360246</td>\n",
              "      <td>14.774917</td>\n",
              "      <td>-49.471841</td>\n",
              "      <td>-9.030501</td>\n",
              "      <td>-1.760447</td>\n",
              "      <td>1.753114</td>\n",
              "      <td>2.041933</td>\n",
              "    </tr>\n",
              "    <tr>\n",
              "      <th>3</th>\n",
              "      <td>2.214819</td>\n",
              "      <td>15.027394</td>\n",
              "      <td>-43.200400</td>\n",
              "      <td>-13.565001</td>\n",
              "      <td>-2.643018</td>\n",
              "      <td>2.200463</td>\n",
              "      <td>2.141847</td>\n",
              "    </tr>\n",
              "    <tr>\n",
              "      <th>4</th>\n",
              "      <td>3.398576</td>\n",
              "      <td>15.115756</td>\n",
              "      <td>-49.416644</td>\n",
              "      <td>-6.857672</td>\n",
              "      <td>-2.025936</td>\n",
              "      <td>1.788085</td>\n",
              "      <td>1.875540</td>\n",
              "    </tr>\n",
              "    <tr>\n",
              "      <th>...</th>\n",
              "      <td>...</td>\n",
              "      <td>...</td>\n",
              "      <td>...</td>\n",
              "      <td>...</td>\n",
              "      <td>...</td>\n",
              "      <td>...</td>\n",
              "      <td>...</td>\n",
              "    </tr>\n",
              "    <tr>\n",
              "      <th>185</th>\n",
              "      <td>2.647090</td>\n",
              "      <td>14.246231</td>\n",
              "      <td>-44.947807</td>\n",
              "      <td>-10.412540</td>\n",
              "      <td>-2.809695</td>\n",
              "      <td>2.084152</td>\n",
              "      <td>1.903990</td>\n",
              "    </tr>\n",
              "    <tr>\n",
              "      <th>186</th>\n",
              "      <td>2.677908</td>\n",
              "      <td>14.620351</td>\n",
              "      <td>-45.776334</td>\n",
              "      <td>-10.196029</td>\n",
              "      <td>-2.640178</td>\n",
              "      <td>2.038005</td>\n",
              "      <td>1.910832</td>\n",
              "    </tr>\n",
              "    <tr>\n",
              "      <th>187</th>\n",
              "      <td>3.543866</td>\n",
              "      <td>14.487241</td>\n",
              "      <td>-49.692284</td>\n",
              "      <td>-7.773038</td>\n",
              "      <td>-1.865513</td>\n",
              "      <td>1.752195</td>\n",
              "      <td>1.952922</td>\n",
              "    </tr>\n",
              "    <tr>\n",
              "      <th>188</th>\n",
              "      <td>3.563404</td>\n",
              "      <td>13.945495</td>\n",
              "      <td>-49.131439</td>\n",
              "      <td>-8.156546</td>\n",
              "      <td>-2.104684</td>\n",
              "      <td>1.773425</td>\n",
              "      <td>1.914397</td>\n",
              "    </tr>\n",
              "    <tr>\n",
              "      <th>189</th>\n",
              "      <td>3.718648</td>\n",
              "      <td>13.810806</td>\n",
              "      <td>-49.414929</td>\n",
              "      <td>-7.661211</td>\n",
              "      <td>-2.154060</td>\n",
              "      <td>1.773895</td>\n",
              "      <td>1.901090</td>\n",
              "    </tr>\n",
              "  </tbody>\n",
              "</table>\n",
              "<p>190 rows × 7 columns</p>\n",
              "</div>"
            ],
            "text/plain": [
              "           x1         x2         x3         x4        x5        x6        x7\n",
              "0    2.596641  15.263178 -46.289607 -10.993265 -2.266729  1.935832  2.039688\n",
              "1    3.096286  14.784802 -48.175614  -8.799362 -2.220871  1.851201  1.921974\n",
              "2    3.360246  14.774917 -49.471841  -9.030501 -1.760447  1.753114  2.041933\n",
              "3    2.214819  15.027394 -43.200400 -13.565001 -2.643018  2.200463  2.141847\n",
              "4    3.398576  15.115756 -49.416644  -6.857672 -2.025936  1.788085  1.875540\n",
              "..        ...        ...        ...        ...       ...       ...       ...\n",
              "185  2.647090  14.246231 -44.947807 -10.412540 -2.809695  2.084152  1.903990\n",
              "186  2.677908  14.620351 -45.776334 -10.196029 -2.640178  2.038005  1.910832\n",
              "187  3.543866  14.487241 -49.692284  -7.773038 -1.865513  1.752195  1.952922\n",
              "188  3.563404  13.945495 -49.131439  -8.156546 -2.104684  1.773425  1.914397\n",
              "189  3.718648  13.810806 -49.414929  -7.661211 -2.154060  1.773895  1.901090\n",
              "\n",
              "[190 rows x 7 columns]"
            ]
          },
          "metadata": {
            "tags": []
          },
          "execution_count": 5
        }
      ]
    },
    {
      "cell_type": "markdown",
      "metadata": {
        "id": "kpBoiB2SKDPF"
      },
      "source": [
        "# Observation:\n",
        "\n",
        "There are 7 columns which includes 7 features .\n",
        "\n",
        "There are 190 samples. "
      ]
    },
    {
      "cell_type": "code",
      "metadata": {
        "colab": {
          "base_uri": "https://localhost:8080/"
        },
        "id": "3N0JYDbJKIe2",
        "outputId": "696c9de8-7652-4a95-f32c-c51843f77788"
      },
      "source": [
        "df.info()"
      ],
      "execution_count": 6,
      "outputs": [
        {
          "output_type": "stream",
          "text": [
            "<class 'pandas.core.frame.DataFrame'>\n",
            "RangeIndex: 190 entries, 0 to 189\n",
            "Data columns (total 7 columns):\n",
            " #   Column  Non-Null Count  Dtype  \n",
            "---  ------  --------------  -----  \n",
            " 0   x1      190 non-null    float64\n",
            " 1   x2      190 non-null    float64\n",
            " 2   x3      190 non-null    float64\n",
            " 3   x4      190 non-null    float64\n",
            " 4   x5      190 non-null    float64\n",
            " 5   x6      190 non-null    float64\n",
            " 6   x7      190 non-null    float64\n",
            "dtypes: float64(7)\n",
            "memory usage: 10.5 KB\n"
          ],
          "name": "stdout"
        }
      ]
    },
    {
      "cell_type": "markdown",
      "metadata": {
        "id": "QGfdtKnEKMj1"
      },
      "source": [
        "#Observations:\n",
        "\n",
        " All features are numerical.\n"
      ]
    },
    {
      "cell_type": "code",
      "metadata": {
        "colab": {
          "base_uri": "https://localhost:8080/"
        },
        "id": "U9jui9fRKMMe",
        "outputId": "b69a7990-330f-458e-a3e8-7d85879dc3e6"
      },
      "source": [
        "for col in df: # for each column\n",
        "  unique_entries = pd.unique(df[col]) # unique elements in a column\n",
        "  print(f\"The column '{col}'  has {len(unique_entries)} unique entries, and {df[col].isnull().sum()} NaN values\")\n"
      ],
      "execution_count": 7,
      "outputs": [
        {
          "output_type": "stream",
          "text": [
            "The column 'x1'  has 190 unique entries, and 0 NaN values\n",
            "The column 'x2'  has 190 unique entries, and 0 NaN values\n",
            "The column 'x3'  has 190 unique entries, and 0 NaN values\n",
            "The column 'x4'  has 190 unique entries, and 0 NaN values\n",
            "The column 'x5'  has 190 unique entries, and 0 NaN values\n",
            "The column 'x6'  has 190 unique entries, and 0 NaN values\n",
            "The column 'x7'  has 190 unique entries, and 0 NaN values\n"
          ],
          "name": "stdout"
        }
      ]
    },
    {
      "cell_type": "markdown",
      "metadata": {
        "id": "-jZee6ABKQ7W"
      },
      "source": [
        "#Observations:\n",
        " \n",
        "There are no Null entries."
      ]
    },
    {
      "cell_type": "markdown",
      "metadata": {
        "id": "h7Pr3bXJKU7F"
      },
      "source": [
        "# Part A :Visualize and pre-processing"
      ]
    },
    {
      "cell_type": "code",
      "metadata": {
        "colab": {
          "base_uri": "https://localhost:8080/",
          "height": 1000
        },
        "id": "T9s6g-oOKPal",
        "outputId": "862a650f-2650-4502-8a24-0eb39f9cc834"
      },
      "source": [
        "for col in df.columns.values: #for all columns\n",
        "  #if the values are integer or discrete\n",
        "  if(df[col].dtypes == 'int64') | (df[col].dtypes == 'float64'):\n",
        "    plt.hist(df[col],10 if len(pd.unique(df[col]))>20 else len(pd.unique(df[col])))\n",
        "    plt.xlabel(col)\n",
        "    plt.show()"
      ],
      "execution_count": 8,
      "outputs": [
        {
          "output_type": "display_data",
          "data": {
            "image/png": "[encoded data removed]",
            "text/plain": [
              "<Figure size 432x288 with 1 Axes>"
            ]
          },
          "metadata": {
            "tags": [],
            "needs_background": "light"
          }
        },
        {
          "output_type": "display_data",
          "data": {
            "image/png": "[encoded data removed]",
            "text/plain": [
              "<Figure size 432x288 with 1 Axes>"
            ]
          },
          "metadata": {
            "tags": [],
            "needs_background": "light"
          }
        },
        {
          "output_type": "display_data",
          "data": {
            "image/png": "[encoded data removed]",
            "text/plain": [
              "<Figure size 432x288 with 1 Axes>"
            ]
          },
          "metadata": {
            "tags": [],
            "needs_background": "light"
          }
        },
        {
          "output_type": "display_data",
          "data": {
            "image/png": "[encoded data removed]",
            "text/plain": [
              "<Figure size 432x288 with 1 Axes>"
            ]
          },
          "metadata": {
            "tags": [],
            "needs_background": "light"
          }
        },
        {
          "output_type": "display_data",
          "data": {
            "image/png": "[encoded data removed]",
            "text/plain": [
              "<Figure size 432x288 with 1 Axes>"
            ]
          },
          "metadata": {
            "tags": [],
            "needs_background": "light"
          }
        },
        {
          "output_type": "display_data",
          "data": {
            "image/png": "[encoded data removed]",
            "text/plain": [
              "<Figure size 432x288 with 1 Axes>"
            ]
          },
          "metadata": {
            "tags": [],
            "needs_background": "light"
          }
        },
        {
          "output_type": "display_data",
          "data": {
            "image/png": "[encoded data removed]",
            "text/plain": [
              "<Figure size 432x288 with 1 Axes>"
            ]
          },
          "metadata": {
            "tags": [],
            "needs_background": "light"
          }
        }
      ]
    },
    {
      "cell_type": "markdown",
      "metadata": {
        "id": "ct70c-bjKaA1"
      },
      "source": [
        "#Observations:\n",
        "\n",
        "Data is well spreaded"
      ]
    },
    {
      "cell_type": "code",
      "metadata": {
        "colab": {
          "base_uri": "https://localhost:8080/",
          "height": 407
        },
        "id": "ekr5j2olKbmd",
        "outputId": "a4afa85b-76b9-41ef-f840-cc3d61a2a8b5"
      },
      "source": [
        "correlation = df.corr(method='spearman')\n",
        "\n",
        "f, ax = plt.subplots(figsize=(8,6))\n",
        "plt.title('Correlation of numerical attributes', size=12)\n",
        "sns.heatmap(correlation,annot=True)"
      ],
      "execution_count": 9,
      "outputs": [
        {
          "output_type": "execute_result",
          "data": {
            "text/plain": [
              "<matplotlib.axes._subplots.AxesSubplot at 0x7f192efb5d50>"
            ]
          },
          "metadata": {
            "tags": []
          },
          "execution_count": 9
        },
        {
          "output_type": "display_data",
          "data": {
            "image/png": "[encoded data removed]",
            "text/plain": [
              "<Figure size 576x432 with 2 Axes>"
            ]
          },
          "metadata": {
            "tags": [],
            "needs_background": "light"
          }
        }
      ]
    },
    {
      "cell_type": "markdown",
      "metadata": {
        "id": "B0nIdCJdKgLF"
      },
      "source": [
        "#Observations:\n",
        "\n",
        "1. x1 and x4 are highly correlated.\n",
        "2. x3 and x6 are highly correlated."
      ]
    },
    {
      "cell_type": "markdown",
      "metadata": {
        "id": "YuWrqABQLQev"
      },
      "source": [
        "#Power Transformation"
      ]
    },
    {
      "cell_type": "code",
      "metadata": {
        "id": "077J2IWPLQyV"
      },
      "source": [
        "from sklearn.preprocessing import PowerTransformer\n",
        "power = PowerTransformer(method='yeo-johnson', standardize=True)\n",
        "df_transformed = power.fit_transform(df)\n"
      ],
      "execution_count": 10,
      "outputs": []
    },
    {
      "cell_type": "code",
      "metadata": {
        "id": "-CVglEvLLTDV"
      },
      "source": [
        "df_transformed1 = pd.DataFrame(df_transformed)"
      ],
      "execution_count": 11,
      "outputs": []
    },
    {
      "cell_type": "code",
      "metadata": {
        "id": "4ldab4U7Kz4t"
      },
      "source": [
        "from sklearn.manifold import TSNE\n",
        "\n",
        "tsne = TSNE(2,random_state=1, n_iter=15000, metric=\"cosine\")\n",
        "\n",
        "embs = tsne.fit_transform(df_transformed1)\n",
        "# Add to dataframe for convenience\n",
        "df['x'] = embs[:, 0]\n",
        "df['y'] = embs[:, 1]"
      ],
      "execution_count": 41,
      "outputs": []
    },
    {
      "cell_type": "code",
      "metadata": {
        "colab": {
          "base_uri": "https://localhost:8080/",
          "height": 483
        },
        "id": "9Mx6Cx22LX7m",
        "outputId": "5ee275b4-1fe2-4a57-8608-b8135627e0be"
      },
      "source": [
        "FS = (10, 8)\n",
        "fig, ax = plt.subplots(figsize=FS)\n",
        "# Make points translucent so we can visually identify regions with a high density of overlapping points\n",
        "ax.scatter(df.x, df.y, alpha=.1);"
      ],
      "execution_count": 42,
      "outputs": [
        {
          "output_type": "display_data",
          "data": {
            "image/png": "[encoded data removed]",
            "text/plain": [
              "<Figure size 720x576 with 1 Axes>"
            ]
          },
          "metadata": {
            "tags": [],
            "needs_background": "light"
          }
        }
      ]
    },
    {
      "cell_type": "markdown",
      "metadata": {
        "id": "DUm4ms6HLlO1"
      },
      "source": [
        "#Observations:\n",
        "Data looks non linearly separable.\n"
      ]
    },
    {
      "cell_type": "markdown",
      "metadata": {
        "id": "Ka3uOoHvMDL1"
      },
      "source": [
        "#Part B:Train KPCA"
      ]
    },
    {
      "cell_type": "code",
      "metadata": {
        "id": "xdz8TKmvL8Jn"
      },
      "source": [
        "from sklearn.decomposition import KernelPCA\n",
        "kpca = KernelPCA(n_components=10,kernel ='rbf', gamma = 15)\n",
        "X_kpca = kpca.fit_transform(df_transformed1)\n",
        "  "
      ],
      "execution_count": 37,
      "outputs": []
    },
    {
      "cell_type": "markdown",
      "metadata": {
        "id": "eXW8niedNd9m"
      },
      "source": [
        "# Part C: Plot the variance explained versus KPCA dimensions for up to 10 dimensions."
      ]
    },
    {
      "cell_type": "code",
      "metadata": {
        "id": "ADXGiL0hMxAY"
      },
      "source": [
        "expl_var_kpca = np.var(X_kpca, axis=0)"
      ],
      "execution_count": 38,
      "outputs": []
    },
    {
      "cell_type": "code",
      "metadata": {
        "id": "pg-OX-g_NtLC"
      },
      "source": [
        "expl_var_ratio_kpca = expl_var_kpca / np.sum(expl_var_kpca)"
      ],
      "execution_count": 39,
      "outputs": []
    },
    {
      "cell_type": "code",
      "metadata": {
        "colab": {
          "base_uri": "https://localhost:8080/",
          "height": 297
        },
        "id": "CVjX76P4P8l1",
        "outputId": "67cc780a-8b78-49f8-a03b-305f01ef6276"
      },
      "source": [
        "with plt.style.context('dark_background'):\n",
        "    plt.figure(figsize=(6, 4))\n",
        "\n",
        "    plt.bar(range(10), expl_var_ratio_kpca, alpha=0.5, align='center',\n",
        "            label='individual explained variance')\n",
        "    plt.ylabel('Explained variance ratio')\n",
        "    plt.xlabel('Principal components')\n",
        "    plt.legend(loc='best')\n",
        "    plt.tight_layout()"
      ],
      "execution_count": 40,
      "outputs": [
        {
          "output_type": "display_data",
          "data": {
            "image/png": "[encoded data removed]",
            "text/plain": [
              "<Figure size 432x288 with 1 Axes>"
            ]
          },
          "metadata": {
            "tags": []
          }
        }
      ]
    },
    {
      "cell_type": "markdown",
      "metadata": {
        "id": "W0mpj_FsQpbW"
      },
      "source": [
        "#Observations:\n",
        "\n",
        "Approx first 10 dimensions contains 90 percent variance\n"
      ]
    },
    {
      "cell_type": "markdown",
      "metadata": {
        "id": "w1WWwxSIREqc"
      },
      "source": [
        "#Credits:\n",
        "\n",
        "1.EE769 1 2 2 ML for Smart Monkeys, Youtube, Prof Amit Sethi, EE IITB\n",
        "\n",
        "2.https://www.bogotobogo.com/python/scikit-learn/scikit_machine_learning_Data_Compresssion_via_Dimensionality_Reduction_3-nonlinear-mappings-via-kernel-principal-component-analysis.php\n"
      ]
    }
  ]
}